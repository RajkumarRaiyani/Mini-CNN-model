{
 "cells": [
  {
   "cell_type": "code",
   "execution_count": 1,
   "id": "ffeaf2d7",
   "metadata": {},
   "outputs": [],
   "source": [
    "import matplotlib.pyplot as plt\n",
    "import tensorflow as tf \n",
    "import numpy as np \n",
    "import pandas as pd"
   ]
  },
  {
   "cell_type": "code",
   "execution_count": 2,
   "id": "8ee63625",
   "metadata": {},
   "outputs": [],
   "source": [
    "mnist = tf.keras.datasets.mnist\n",
    "(x_train,y_train),(x_test,y_test)=mnist.load_data()"
   ]
  },
  {
   "cell_type": "code",
   "execution_count": 3,
   "id": "a3e296a1",
   "metadata": {},
   "outputs": [],
   "source": [
    "rows,cols = 28,28"
   ]
  },
  {
   "cell_type": "code",
   "execution_count": 4,
   "id": "725a4210",
   "metadata": {},
   "outputs": [],
   "source": [
    "x_train = x_train.reshape(x_train.shape[0],rows , cols, 1)\n",
    "x_test = x_test.reshape(x_test.shape[0],rows , cols, 1)"
   ]
  },
  {
   "cell_type": "code",
   "execution_count": 5,
   "id": "ab40916d",
   "metadata": {},
   "outputs": [],
   "source": [
    "input_shape = (rows, cols, 1)"
   ]
  },
  {
   "cell_type": "code",
   "execution_count": 6,
   "id": "622e17f7",
   "metadata": {},
   "outputs": [],
   "source": [
    "#Normalize data\n",
    "x_train = x_train.astype('float32')\n",
    "x_test = x_test.astype('float32')\n",
    "x_train = x_train / 255.0\n",
    "x_test = x_test / 255.0"
   ]
  },
  {
   "cell_type": "code",
   "execution_count": 7,
   "id": "5809204a",
   "metadata": {},
   "outputs": [],
   "source": [
    "#one_hot encode the labels\n",
    "y_train = tf.keras.utils.to_categorical(y_train, 10)\n",
    "y_test= tf.keras.utils.to_categorical(y_test,10)"
   ]
  },
  {
   "cell_type": "code",
   "execution_count": 8,
   "id": "7ae7c2d6",
   "metadata": {},
   "outputs": [],
   "source": [
    "def build_lenet(input_shape):\n",
    "    #sequential API\n",
    "    model = tf.keras.Sequential()\n",
    "    #convolutional #1. Filters as we know, is 6. Filter size is 5 x 5, tanh is the activation function. 28 x 28 is the dimension.\n",
    "    model.add(tf.keras.layers.Conv2D(filters = 6, \n",
    "                                     kernel_size=(5,5),\n",
    "                                     strides=(1,1),\n",
    "                                     activation='tanh', \n",
    "                                     input_shape= input_shape))\n",
    "    \n",
    "    #subsampling #1. Input = 24 x 24 x 6. Output = 12 x 12 x 6. Subsampling is simply Average pooling so we use avg_pool\n",
    "    model.add(tf.keras.layers.AveragePooling2D(pool_size=(2,2),\n",
    "                                               strides=(2,2)))\n",
    "    \n",
    "    #convolutional #2. Input = 12 x 12 x 6. Output = 8 x 8 x 16 conv2D  \n",
    "    model.add(tf.keras.layers.Conv2D(filters = 16, \n",
    "                                     kernel_size=(5,5),\n",
    "                                     strides=(1,1),\n",
    "                                     activation='tanh'))\n",
    "    \n",
    "    #subsampling #2. Input = 8 x 8 x 16. Output = 4 x 4 x 16. Subsampling is simply Average pooling so we use avg_pool\n",
    "    model.add(tf.keras.layers.AveragePooling2D(pool_size=(2,2),\n",
    "                                               strides=(2,2)))\n",
    "    \n",
    "    \n",
    "    \n",
    "    \n",
    "    #To convert all the resultant 2D arrays as single Long continuous Linear vector we are going to use flatten layer. \n",
    "    model.add(tf.keras.layers.Flatten())\n",
    "    model.add(tf.keras.layers.Dense(units = 120, activation = 'tanh'))\n",
    "    model.add(tf.keras.layers.Flatten())\n",
    "    model.add(tf.keras.layers.Dense(units = 84, activation = 'tanh'))\n",
    "    \n",
    "    #output layer\n",
    "    model.add(tf.keras.layers.Dense(units = 10, activation = 'softmax'))\n",
    "    \n",
    "    #Compile model\n",
    "    model.compile(loss= 'categorical_crossentropy', optimizer = tf.keras.optimizers.SGD(lr=0.1,momentum=0.0,decay=0.0),\n",
    "                  metrics = ['accuracy'])\n",
    "    return model "
   ]
  },
  {
   "cell_type": "code",
   "execution_count": 9,
   "id": "5e296f04",
   "metadata": {},
   "outputs": [
    {
     "name": "stdout",
     "output_type": "stream",
     "text": [
      "Epoch 1/10\n"
     ]
    },
    {
     "name": "stderr",
     "output_type": "stream",
     "text": [
      "C:\\Users\\rajra\\anaconda3\\lib\\site-packages\\keras\\optimizers\\optimizer_v2\\gradient_descent.py:108: UserWarning: The `lr` argument is deprecated, use `learning_rate` instead.\n",
      "  super(SGD, self).__init__(name, **kwargs)\n"
     ]
    },
    {
     "name": "stdout",
     "output_type": "stream",
     "text": [
      "469/469 [==============================] - 27s 57ms/step - loss: 0.4022 - accuracy: 0.8887\n",
      "Epoch 2/10\n",
      "469/469 [==============================] - 24s 51ms/step - loss: 0.1601 - accuracy: 0.9527\n",
      "Epoch 3/10\n",
      "469/469 [==============================] - 24s 51ms/step - loss: 0.1076 - accuracy: 0.9682\n",
      "Epoch 4/10\n",
      "469/469 [==============================] - 25s 52ms/step - loss: 0.0840 - accuracy: 0.9752\n",
      "Epoch 5/10\n",
      "469/469 [==============================] - 24s 51ms/step - loss: 0.0702 - accuracy: 0.9786\n",
      "Epoch 6/10\n",
      "469/469 [==============================] - 23s 49ms/step - loss: 0.0608 - accuracy: 0.9821\n",
      "Epoch 7/10\n",
      "469/469 [==============================] - 24s 52ms/step - loss: 0.0533 - accuracy: 0.9841\n",
      "Epoch 8/10\n",
      "469/469 [==============================] - 24s 52ms/step - loss: 0.0479 - accuracy: 0.9861\n",
      "Epoch 9/10\n",
      "469/469 [==============================] - 27s 57ms/step - loss: 0.0430 - accuracy: 0.9870\n",
      "Epoch 10/10\n",
      "469/469 [==============================] - 23s 49ms/step - loss: 0.0390 - accuracy: 0.9884\n",
      "313/313 [==============================] - 1s 2ms/step - loss: 0.0437 - accuracy: 0.9847\n",
      "ACCURACY:  0.9847000241279602\n",
      "Training Data (60000, 28, 28) (60000, 10)\n",
      "Test Data (10000, 28, 28) (10000, 10)\n"
     ]
    }
   ],
   "source": [
    "#build lenet \n",
    "lenet = build_lenet(input_shape)\n",
    "epochs = 10\n",
    "history = lenet.fit(x_train, y_train,\n",
    "                   epochs = epochs,\n",
    "                   batch_size= 128,\n",
    "                   verbose = 1)\n",
    "loss , acc = lenet.evaluate(x_test, y_test)\n",
    "print('ACCURACY: ',acc)\n",
    "x_train=x_train.reshape(x_train.shape[0],28,28)\n",
    "print(\"Training Data\", x_train.shape,y_train.shape)\n",
    "\n",
    "x_test=x_test.reshape(x_test.shape[0],28,28)\n",
    "print(\"Test Data\", x_test.shape,y_test.shape)"
   ]
  },
  {
   "cell_type": "code",
   "execution_count": 10,
   "id": "bf6a7d7b",
   "metadata": {},
   "outputs": [
    {
     "data": {
      "image/png": "[encoded data removed]",
      "text/plain": [
       "<Figure size 800x500 with 1 Axes>"
      ]
     },
     "metadata": {},
     "output_type": "display_data"
    }
   ],
   "source": [
    "pd.DataFrame(history.history).plot(figsize= (8,5))\n",
    "plt.grid(True)\n",
    "plt.gca().set_ylim(0,1)\n",
    "plt.show()"
   ]
  },
  {
   "cell_type": "code",
   "execution_count": 11,
   "id": "4955b6df",
   "metadata": {},
   "outputs": [
    {
     "name": "stdout",
     "output_type": "stream",
     "text": [
      "Model: \"sequential\"\n",
      "_________________________________________________________________\n",
      " Layer (type)                Output Shape              Param #   \n",
      "=================================================================\n",
      " conv2d (Conv2D)             (None, 24, 24, 6)         156       \n",
      "                                                                 \n",
      " average_pooling2d (AverageP  (None, 12, 12, 6)        0         \n",
      " ooling2D)                                                       \n",
      "                                                                 \n",
      " conv2d_1 (Conv2D)           (None, 8, 8, 16)          2416      \n",
      "                                                                 \n",
      " average_pooling2d_1 (Averag  (None, 4, 4, 16)         0         \n",
      " ePooling2D)                                                     \n",
      "                                                                 \n",
      " flatten (Flatten)           (None, 256)               0         \n",
      "                                                                 \n",
      " dense (Dense)               (None, 120)               30840     \n",
      "                                                                 \n",
      " flatten_1 (Flatten)         (None, 120)               0         \n",
      "                                                                 \n",
      " dense_1 (Dense)             (None, 84)                10164     \n",
      "                                                                 \n",
      " dense_2 (Dense)             (None, 10)                850       \n",
      "                                                                 \n",
      "=================================================================\n",
      "Total params: 44,426\n",
      "Trainable params: 44,426\n",
      "Non-trainable params: 0\n",
      "_________________________________________________________________\n"
     ]
    }
   ],
   "source": [
    "lenet.summary()"
   ]
  },
  {
   "cell_type": "code",
   "execution_count": 12,
   "id": "cc3089c7",
   "metadata": {},
   "outputs": [
    {
     "name": "stdout",
     "output_type": "stream",
     "text": [
      "model saved\n"
     ]
    }
   ],
   "source": [
    "lenet.save('lenetmodel.h5')\n",
    "print(\"model saved\")"
   ]
  },
  {
   "cell_type": "code",
   "execution_count": null,
   "id": "c31f5660",
   "metadata": {},
   "outputs": [],
   "source": []
  },
  {
   "cell_type": "code",
   "execution_count": null,
   "id": "6c97e414",
   "metadata": {},
   "outputs": [],
   "source": []
  },
  {
   "cell_type": "code",
   "execution_count": null,
   "id": "0e509f5e",
   "metadata": {},
   "outputs": [],
   "source": []
  }
 ],
 "metadata": {
  "kernelspec": {
   "display_name": "Python 3 (ipykernel)",
   "language": "python",
   "name": "python3"
  },
  "language_info": {
   "codemirror_mode": {
    "name": "ipython",
    "version": 3
   },
   "file_extension": ".py",
   "mimetype": "text/x-python",
   "name": "python",
   "nbconvert_exporter": "python",
   "pygments_lexer": "ipython3",
   "version": "3.9.13"
  }
 },
 "nbformat": 4,
 "nbformat_minor": 5
}
